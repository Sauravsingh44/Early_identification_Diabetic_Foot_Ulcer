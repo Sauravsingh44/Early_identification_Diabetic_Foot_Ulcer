{
 "cells": [
  {
   "cell_type": "code",
   "execution_count": 1,
   "id": "48e07cdc-30da-4c2f-bfd4-9da6553f3710",
   "metadata": {},
   "outputs": [],
   "source": [
    "import pandas as pd\n",
    "import numpy as np\n",
    "from matplotlib import pyplot as plt \n",
    "import os"
   ]
  },
  {
   "cell_type": "code",
   "execution_count": 2,
   "id": "a7ac342c-bf7c-44e5-94c1-3cfba0299431",
   "metadata": {},
   "outputs": [
    {
     "data": {
      "text/html": [
       "<div>\n",
       "<style scoped>\n",
       "    .dataframe tbody tr th:only-of-type {\n",
       "        vertical-align: middle;\n",
       "    }\n",
       "\n",
       "    .dataframe tbody tr th {\n",
       "        vertical-align: top;\n",
       "    }\n",
       "\n",
       "    .dataframe thead th {\n",
       "        text-align: right;\n",
       "    }\n",
       "</style>\n",
       "<table border=\"1\" class=\"dataframe\">\n",
       "  <thead>\n",
       "    <tr style=\"text-align: right;\">\n",
       "      <th></th>\n",
       "      <th>MTK1.T</th>\n",
       "      <th>MTK2.T</th>\n",
       "      <th>MTK3.T</th>\n",
       "      <th>MTK4.T</th>\n",
       "      <th>MTK5.T</th>\n",
       "      <th>D1.T</th>\n",
       "      <th>L.T</th>\n",
       "      <th>C.T</th>\n",
       "      <th>max_temp</th>\n",
       "      <th>min_temp</th>\n",
       "      <th>temp_range</th>\n",
       "      <th>condition</th>\n",
       "    </tr>\n",
       "  </thead>\n",
       "  <tbody>\n",
       "    <tr>\n",
       "      <th>0</th>\n",
       "      <td>0.983221</td>\n",
       "      <td>1.579631</td>\n",
       "      <td>1.926185</td>\n",
       "      <td>2.091407</td>\n",
       "      <td>1.760453</td>\n",
       "      <td>0.619983</td>\n",
       "      <td>1.272439</td>\n",
       "      <td>0.915525</td>\n",
       "      <td>2.091407</td>\n",
       "      <td>0.619983</td>\n",
       "      <td>1.471423</td>\n",
       "      <td>0</td>\n",
       "    </tr>\n",
       "    <tr>\n",
       "      <th>1</th>\n",
       "      <td>0.125197</td>\n",
       "      <td>0.094649</td>\n",
       "      <td>0.608958</td>\n",
       "      <td>0.700101</td>\n",
       "      <td>1.500195</td>\n",
       "      <td>0.227996</td>\n",
       "      <td>1.762956</td>\n",
       "      <td>2.435764</td>\n",
       "      <td>2.435764</td>\n",
       "      <td>0.094649</td>\n",
       "      <td>2.341115</td>\n",
       "      <td>0</td>\n",
       "    </tr>\n",
       "    <tr>\n",
       "      <th>2</th>\n",
       "      <td>0.335517</td>\n",
       "      <td>0.938675</td>\n",
       "      <td>0.493425</td>\n",
       "      <td>0.343672</td>\n",
       "      <td>1.189942</td>\n",
       "      <td>1.257875</td>\n",
       "      <td>1.669362</td>\n",
       "      <td>1.263756</td>\n",
       "      <td>1.669362</td>\n",
       "      <td>0.335517</td>\n",
       "      <td>1.333844</td>\n",
       "      <td>0</td>\n",
       "    </tr>\n",
       "    <tr>\n",
       "      <th>3</th>\n",
       "      <td>0.343761</td>\n",
       "      <td>0.276866</td>\n",
       "      <td>0.537738</td>\n",
       "      <td>0.246287</td>\n",
       "      <td>1.398624</td>\n",
       "      <td>1.630739</td>\n",
       "      <td>0.438513</td>\n",
       "      <td>0.423720</td>\n",
       "      <td>1.630739</td>\n",
       "      <td>0.246287</td>\n",
       "      <td>1.384452</td>\n",
       "      <td>0</td>\n",
       "    </tr>\n",
       "    <tr>\n",
       "      <th>4</th>\n",
       "      <td>0.704690</td>\n",
       "      <td>1.595115</td>\n",
       "      <td>1.218438</td>\n",
       "      <td>0.859128</td>\n",
       "      <td>1.165247</td>\n",
       "      <td>0.722619</td>\n",
       "      <td>1.235193</td>\n",
       "      <td>3.400332</td>\n",
       "      <td>3.400332</td>\n",
       "      <td>0.704690</td>\n",
       "      <td>2.695642</td>\n",
       "      <td>1</td>\n",
       "    </tr>\n",
       "    <tr>\n",
       "      <th>...</th>\n",
       "      <td>...</td>\n",
       "      <td>...</td>\n",
       "      <td>...</td>\n",
       "      <td>...</td>\n",
       "      <td>...</td>\n",
       "      <td>...</td>\n",
       "      <td>...</td>\n",
       "      <td>...</td>\n",
       "      <td>...</td>\n",
       "      <td>...</td>\n",
       "      <td>...</td>\n",
       "      <td>...</td>\n",
       "    </tr>\n",
       "    <tr>\n",
       "      <th>73</th>\n",
       "      <td>0.572060</td>\n",
       "      <td>0.651480</td>\n",
       "      <td>0.323167</td>\n",
       "      <td>2.548236</td>\n",
       "      <td>1.137525</td>\n",
       "      <td>3.652500</td>\n",
       "      <td>0.942357</td>\n",
       "      <td>0.385682</td>\n",
       "      <td>3.652500</td>\n",
       "      <td>0.323167</td>\n",
       "      <td>3.329333</td>\n",
       "      <td>1</td>\n",
       "    </tr>\n",
       "    <tr>\n",
       "      <th>74</th>\n",
       "      <td>1.643545</td>\n",
       "      <td>2.232720</td>\n",
       "      <td>2.246896</td>\n",
       "      <td>1.983081</td>\n",
       "      <td>1.971958</td>\n",
       "      <td>1.429466</td>\n",
       "      <td>1.704914</td>\n",
       "      <td>1.288972</td>\n",
       "      <td>2.246896</td>\n",
       "      <td>1.288972</td>\n",
       "      <td>0.957924</td>\n",
       "      <td>0</td>\n",
       "    </tr>\n",
       "    <tr>\n",
       "      <th>75</th>\n",
       "      <td>0.381049</td>\n",
       "      <td>1.013439</td>\n",
       "      <td>0.216111</td>\n",
       "      <td>0.816165</td>\n",
       "      <td>1.821659</td>\n",
       "      <td>1.642428</td>\n",
       "      <td>1.033259</td>\n",
       "      <td>0.374977</td>\n",
       "      <td>1.821659</td>\n",
       "      <td>0.216111</td>\n",
       "      <td>1.605548</td>\n",
       "      <td>0</td>\n",
       "    </tr>\n",
       "    <tr>\n",
       "      <th>76</th>\n",
       "      <td>0.609831</td>\n",
       "      <td>0.426914</td>\n",
       "      <td>1.071384</td>\n",
       "      <td>1.597074</td>\n",
       "      <td>2.917671</td>\n",
       "      <td>0.594115</td>\n",
       "      <td>3.530871</td>\n",
       "      <td>2.749073</td>\n",
       "      <td>3.530871</td>\n",
       "      <td>0.426914</td>\n",
       "      <td>3.103957</td>\n",
       "      <td>1</td>\n",
       "    </tr>\n",
       "    <tr>\n",
       "      <th>77</th>\n",
       "      <td>0.763072</td>\n",
       "      <td>0.199663</td>\n",
       "      <td>1.021006</td>\n",
       "      <td>0.729139</td>\n",
       "      <td>1.575253</td>\n",
       "      <td>1.904983</td>\n",
       "      <td>0.780378</td>\n",
       "      <td>0.908394</td>\n",
       "      <td>1.904983</td>\n",
       "      <td>0.199663</td>\n",
       "      <td>1.705320</td>\n",
       "      <td>0</td>\n",
       "    </tr>\n",
       "  </tbody>\n",
       "</table>\n",
       "<p>78 rows × 12 columns</p>\n",
       "</div>"
      ],
      "text/plain": [
       "      MTK1.T    MTK2.T    MTK3.T    MTK4.T    MTK5.T      D1.T       L.T  \\\n",
       "0   0.983221  1.579631  1.926185  2.091407  1.760453  0.619983  1.272439   \n",
       "1   0.125197  0.094649  0.608958  0.700101  1.500195  0.227996  1.762956   \n",
       "2   0.335517  0.938675  0.493425  0.343672  1.189942  1.257875  1.669362   \n",
       "3   0.343761  0.276866  0.537738  0.246287  1.398624  1.630739  0.438513   \n",
       "4   0.704690  1.595115  1.218438  0.859128  1.165247  0.722619  1.235193   \n",
       "..       ...       ...       ...       ...       ...       ...       ...   \n",
       "73  0.572060  0.651480  0.323167  2.548236  1.137525  3.652500  0.942357   \n",
       "74  1.643545  2.232720  2.246896  1.983081  1.971958  1.429466  1.704914   \n",
       "75  0.381049  1.013439  0.216111  0.816165  1.821659  1.642428  1.033259   \n",
       "76  0.609831  0.426914  1.071384  1.597074  2.917671  0.594115  3.530871   \n",
       "77  0.763072  0.199663  1.021006  0.729139  1.575253  1.904983  0.780378   \n",
       "\n",
       "         C.T  max_temp  min_temp  temp_range  condition  \n",
       "0   0.915525  2.091407  0.619983    1.471423          0  \n",
       "1   2.435764  2.435764  0.094649    2.341115          0  \n",
       "2   1.263756  1.669362  0.335517    1.333844          0  \n",
       "3   0.423720  1.630739  0.246287    1.384452          0  \n",
       "4   3.400332  3.400332  0.704690    2.695642          1  \n",
       "..       ...       ...       ...         ...        ...  \n",
       "73  0.385682  3.652500  0.323167    3.329333          1  \n",
       "74  1.288972  2.246896  1.288972    0.957924          0  \n",
       "75  0.374977  1.821659  0.216111    1.605548          0  \n",
       "76  2.749073  3.530871  0.426914    3.103957          1  \n",
       "77  0.908394  1.904983  0.199663    1.705320          0  \n",
       "\n",
       "[78 rows x 12 columns]"
      ]
     },
     "execution_count": 2,
     "metadata": {},
     "output_type": "execute_result"
    }
   ],
   "source": [
    "filepath=r\"C:\\Users\\CSIO\\Desktop\\Diabetic Foot Research\\Machine Learning Implementation\\dataset_with_4_classes\\combined_data\\final.csv\"\n",
    "data=pd.read_csv(filepath)\n",
    "data"
   ]
  },
  {
   "cell_type": "code",
   "execution_count": 28,
   "id": "3f604a5b-bb3a-48f9-b95b-f3b161990b72",
   "metadata": {},
   "outputs": [],
   "source": [
    "from sklearn.model_selection import train_test_split\n",
    "X=data.drop(columns=['condition'])\n",
    "y=data['condition']\n",
    "X_train,X_test,y_train,y_test=train_test_split(X,y,test_size=0.5,random_state=42)"
   ]
  },
  {
   "cell_type": "markdown",
   "id": "ce12d5a4-baa4-48a2-930d-a48917b511c0",
   "metadata": {},
   "source": [
    "# K-NN Classifier"
   ]
  },
  {
   "cell_type": "code",
   "execution_count": 29,
   "id": "f8c4a3ca-934a-4c93-9e15-c949cfdbac57",
   "metadata": {},
   "outputs": [],
   "source": [
    "from sklearn.neighbors import KNeighborsClassifier\n",
    "from sklearn.metrics import accuracy_score"
   ]
  },
  {
   "cell_type": "code",
   "execution_count": 30,
   "id": "64b7d4d3-eb62-4f30-ad3e-84cc2d5cd26e",
   "metadata": {},
   "outputs": [
    {
     "data": {
      "image/png": "[encoded data removed]",
      "text/plain": [
       "<Figure size 800x600 with 1 Axes>"
      ]
     },
     "metadata": {},
     "output_type": "display_data"
    }
   ],
   "source": [
    "k_values=range(1,21)\n",
    "error_rate=[]\n",
    "\n",
    "for k in k_values:\n",
    "    knn=KNeighborsClassifier(n_neighbors=k)\n",
    "    knn.fit(X_train,y_train)\n",
    "    y_pred=knn.predict(X_test)\n",
    "    error=1-accuracy_score(y_pred,y_test)\n",
    "    error_rate.append(error)\n",
    "\n",
    "plt.figure(figsize=(8, 6))\n",
    "plt.plot(k_values, error_rate, marker='o')\n",
    "plt.xlabel('K Value')\n",
    "plt.ylabel('Error Rate')\n",
    "plt.title('Elbow Method for Finding Optimal K')\n",
    "plt.axvline(x=3, linestyle='--', color='red', label=\"Optimal K (Elbow Point)\")\n",
    "plt.legend()\n",
    "plt.show()"
   ]
  },
  {
   "cell_type": "code",
   "execution_count": 31,
   "id": "bd5b3307-b21d-425b-a8b9-7224f22dacf8",
   "metadata": {},
   "outputs": [
    {
     "data": {
      "text/html": [
       "<style>#sk-container-id-4 {\n",
       "  /* Definition of color scheme common for light and dark mode */\n",
       "  --sklearn-color-text: #000;\n",
       "  --sklearn-color-text-muted: #666;\n",
       "  --sklearn-color-line: gray;\n",
       "  /* Definition of color scheme for unfitted estimators */\n",
       "  --sklearn-color-unfitted-level-0: #fff5e6;\n",
       "  --sklearn-color-unfitted-level-1: #f6e4d2;\n",
       "  --sklearn-color-unfitted-level-2: #ffe0b3;\n",
       "  --sklearn-color-unfitted-level-3: chocolate;\n",
       "  /* Definition of color scheme for fitted estimators */\n",
       "  --sklearn-color-fitted-level-0: #f0f8ff;\n",
       "  --sklearn-color-fitted-level-1: #d4ebff;\n",
       "  --sklearn-color-fitted-level-2: #b3dbfd;\n",
       "  --sklearn-color-fitted-level-3: cornflowerblue;\n",
       "\n",
       "  /* Specific color for light theme */\n",
       "  --sklearn-color-text-on-default-background: var(--sg-text-color, var(--theme-code-foreground, var(--jp-content-font-color1, black)));\n",
       "  --sklearn-color-background: var(--sg-background-color, var(--theme-background, var(--jp-layout-color0, white)));\n",
       "  --sklearn-color-border-box: var(--sg-text-color, var(--theme-code-foreground, var(--jp-content-font-color1, black)));\n",
       "  --sklearn-color-icon: #696969;\n",
       "\n",
       "  @media (prefers-color-scheme: dark) {\n",
       "    /* Redefinition of color scheme for dark theme */\n",
       "    --sklearn-color-text-on-default-background: var(--sg-text-color, var(--theme-code-foreground, var(--jp-content-font-color1, white)));\n",
       "    --sklearn-color-background: var(--sg-background-color, var(--theme-background, var(--jp-layout-color0, #111)));\n",
       "    --sklearn-color-border-box: var(--sg-text-color, var(--theme-code-foreground, var(--jp-content-font-color1, white)));\n",
       "    --sklearn-color-icon: #878787;\n",
       "  }\n",
       "}\n",
       "\n",
       "#sk-container-id-4 {\n",
       "  color: var(--sklearn-color-text);\n",
       "}\n",
       "\n",
       "#sk-container-id-4 pre {\n",
       "  padding: 0;\n",
       "}\n",
       "\n",
       "#sk-container-id-4 input.sk-hidden--visually {\n",
       "  border: 0;\n",
       "  clip: rect(1px 1px 1px 1px);\n",
       "  clip: rect(1px, 1px, 1px, 1px);\n",
       "  height: 1px;\n",
       "  margin: -1px;\n",
       "  overflow: hidden;\n",
       "  padding: 0;\n",
       "  position: absolute;\n",
       "  width: 1px;\n",
       "}\n",
       "\n",
       "#sk-container-id-4 div.sk-dashed-wrapped {\n",
       "  border: 1px dashed var(--sklearn-color-line);\n",
       "  margin: 0 0.4em 0.5em 0.4em;\n",
       "  box-sizing: border-box;\n",
       "  padding-bottom: 0.4em;\n",
       "  background-color: var(--sklearn-color-background);\n",
       "}\n",
       "\n",
       "#sk-container-id-4 div.sk-container {\n",
       "  /* jupyter's `normalize.less` sets `[hidden] { display: none; }`\n",
       "     but bootstrap.min.css set `[hidden] { display: none !important; }`\n",
       "     so we also need the `!important` here to be able to override the\n",
       "     default hidden behavior on the sphinx rendered scikit-learn.org.\n",
       "     See: https://github.com/scikit-learn/scikit-learn/issues/21755 */\n",
       "  display: inline-block !important;\n",
       "  position: relative;\n",
       "}\n",
       "\n",
       "#sk-container-id-4 div.sk-text-repr-fallback {\n",
       "  display: none;\n",
       "}\n",
       "\n",
       "div.sk-parallel-item,\n",
       "div.sk-serial,\n",
       "div.sk-item {\n",
       "  /* draw centered vertical line to link estimators */\n",
       "  background-image: linear-gradient(var(--sklearn-color-text-on-default-background), var(--sklearn-color-text-on-default-background));\n",
       "  background-size: 2px 100%;\n",
       "  background-repeat: no-repeat;\n",
       "  background-position: center center;\n",
       "}\n",
       "\n",
       "/* Parallel-specific style estimator block */\n",
       "\n",
       "#sk-container-id-4 div.sk-parallel-item::after {\n",
       "  content: \"\";\n",
       "  width: 100%;\n",
       "  border-bottom: 2px solid var(--sklearn-color-text-on-default-background);\n",
       "  flex-grow: 1;\n",
       "}\n",
       "\n",
       "#sk-container-id-4 div.sk-parallel {\n",
       "  display: flex;\n",
       "  align-items: stretch;\n",
       "  justify-content: center;\n",
       "  background-color: var(--sklearn-color-background);\n",
       "  position: relative;\n",
       "}\n",
       "\n",
       "#sk-container-id-4 div.sk-parallel-item {\n",
       "  display: flex;\n",
       "  flex-direction: column;\n",
       "}\n",
       "\n",
       "#sk-container-id-4 div.sk-parallel-item:first-child::after {\n",
       "  align-self: flex-end;\n",
       "  width: 50%;\n",
       "}\n",
       "\n",
       "#sk-container-id-4 div.sk-parallel-item:last-child::after {\n",
       "  align-self: flex-start;\n",
       "  width: 50%;\n",
       "}\n",
       "\n",
       "#sk-container-id-4 div.sk-parallel-item:only-child::after {\n",
       "  width: 0;\n",
       "}\n",
       "\n",
       "/* Serial-specific style estimator block */\n",
       "\n",
       "#sk-container-id-4 div.sk-serial {\n",
       "  display: flex;\n",
       "  flex-direction: column;\n",
       "  align-items: center;\n",
       "  background-color: var(--sklearn-color-background);\n",
       "  padding-right: 1em;\n",
       "  padding-left: 1em;\n",
       "}\n",
       "\n",
       "\n",
       "/* Toggleable style: style used for estimator/Pipeline/ColumnTransformer box that is\n",
       "clickable and can be expanded/collapsed.\n",
       "- Pipeline and ColumnTransformer use this feature and define the default style\n",
       "- Estimators will overwrite some part of the style using the `sk-estimator` class\n",
       "*/\n",
       "\n",
       "/* Pipeline and ColumnTransformer style (default) */\n",
       "\n",
       "#sk-container-id-4 div.sk-toggleable {\n",
       "  /* Default theme specific background. It is overwritten whether we have a\n",
       "  specific estimator or a Pipeline/ColumnTransformer */\n",
       "  background-color: var(--sklearn-color-background);\n",
       "}\n",
       "\n",
       "/* Toggleable label */\n",
       "#sk-container-id-4 label.sk-toggleable__label {\n",
       "  cursor: pointer;\n",
       "  display: flex;\n",
       "  width: 100%;\n",
       "  margin-bottom: 0;\n",
       "  padding: 0.5em;\n",
       "  box-sizing: border-box;\n",
       "  text-align: center;\n",
       "  align-items: start;\n",
       "  justify-content: space-between;\n",
       "  gap: 0.5em;\n",
       "}\n",
       "\n",
       "#sk-container-id-4 label.sk-toggleable__label .caption {\n",
       "  font-size: 0.6rem;\n",
       "  font-weight: lighter;\n",
       "  color: var(--sklearn-color-text-muted);\n",
       "}\n",
       "\n",
       "#sk-container-id-4 label.sk-toggleable__label-arrow:before {\n",
       "  /* Arrow on the left of the label */\n",
       "  content: \"▸\";\n",
       "  float: left;\n",
       "  margin-right: 0.25em;\n",
       "  color: var(--sklearn-color-icon);\n",
       "}\n",
       "\n",
       "#sk-container-id-4 label.sk-toggleable__label-arrow:hover:before {\n",
       "  color: var(--sklearn-color-text);\n",
       "}\n",
       "\n",
       "/* Toggleable content - dropdown */\n",
       "\n",
       "#sk-container-id-4 div.sk-toggleable__content {\n",
       "  max-height: 0;\n",
       "  max-width: 0;\n",
       "  overflow: hidden;\n",
       "  text-align: left;\n",
       "  /* unfitted */\n",
       "  background-color: var(--sklearn-color-unfitted-level-0);\n",
       "}\n",
       "\n",
       "#sk-container-id-4 div.sk-toggleable__content.fitted {\n",
       "  /* fitted */\n",
       "  background-color: var(--sklearn-color-fitted-level-0);\n",
       "}\n",
       "\n",
       "#sk-container-id-4 div.sk-toggleable__content pre {\n",
       "  margin: 0.2em;\n",
       "  border-radius: 0.25em;\n",
       "  color: var(--sklearn-color-text);\n",
       "  /* unfitted */\n",
       "  background-color: var(--sklearn-color-unfitted-level-0);\n",
       "}\n",
       "\n",
       "#sk-container-id-4 div.sk-toggleable__content.fitted pre {\n",
       "  /* unfitted */\n",
       "  background-color: var(--sklearn-color-fitted-level-0);\n",
       "}\n",
       "\n",
       "#sk-container-id-4 input.sk-toggleable__control:checked~div.sk-toggleable__content {\n",
       "  /* Expand drop-down */\n",
       "  max-height: 200px;\n",
       "  max-width: 100%;\n",
       "  overflow: auto;\n",
       "}\n",
       "\n",
       "#sk-container-id-4 input.sk-toggleable__control:checked~label.sk-toggleable__label-arrow:before {\n",
       "  content: \"▾\";\n",
       "}\n",
       "\n",
       "/* Pipeline/ColumnTransformer-specific style */\n",
       "\n",
       "#sk-container-id-4 div.sk-label input.sk-toggleable__control:checked~label.sk-toggleable__label {\n",
       "  color: var(--sklearn-color-text);\n",
       "  background-color: var(--sklearn-color-unfitted-level-2);\n",
       "}\n",
       "\n",
       "#sk-container-id-4 div.sk-label.fitted input.sk-toggleable__control:checked~label.sk-toggleable__label {\n",
       "  background-color: var(--sklearn-color-fitted-level-2);\n",
       "}\n",
       "\n",
       "/* Estimator-specific style */\n",
       "\n",
       "/* Colorize estimator box */\n",
       "#sk-container-id-4 div.sk-estimator input.sk-toggleable__control:checked~label.sk-toggleable__label {\n",
       "  /* unfitted */\n",
       "  background-color: var(--sklearn-color-unfitted-level-2);\n",
       "}\n",
       "\n",
       "#sk-container-id-4 div.sk-estimator.fitted input.sk-toggleable__control:checked~label.sk-toggleable__label {\n",
       "  /* fitted */\n",
       "  background-color: var(--sklearn-color-fitted-level-2);\n",
       "}\n",
       "\n",
       "#sk-container-id-4 div.sk-label label.sk-toggleable__label,\n",
       "#sk-container-id-4 div.sk-label label {\n",
       "  /* The background is the default theme color */\n",
       "  color: var(--sklearn-color-text-on-default-background);\n",
       "}\n",
       "\n",
       "/* On hover, darken the color of the background */\n",
       "#sk-container-id-4 div.sk-label:hover label.sk-toggleable__label {\n",
       "  color: var(--sklearn-color-text);\n",
       "  background-color: var(--sklearn-color-unfitted-level-2);\n",
       "}\n",
       "\n",
       "/* Label box, darken color on hover, fitted */\n",
       "#sk-container-id-4 div.sk-label.fitted:hover label.sk-toggleable__label.fitted {\n",
       "  color: var(--sklearn-color-text);\n",
       "  background-color: var(--sklearn-color-fitted-level-2);\n",
       "}\n",
       "\n",
       "/* Estimator label */\n",
       "\n",
       "#sk-container-id-4 div.sk-label label {\n",
       "  font-family: monospace;\n",
       "  font-weight: bold;\n",
       "  display: inline-block;\n",
       "  line-height: 1.2em;\n",
       "}\n",
       "\n",
       "#sk-container-id-4 div.sk-label-container {\n",
       "  text-align: center;\n",
       "}\n",
       "\n",
       "/* Estimator-specific */\n",
       "#sk-container-id-4 div.sk-estimator {\n",
       "  font-family: monospace;\n",
       "  border: 1px dotted var(--sklearn-color-border-box);\n",
       "  border-radius: 0.25em;\n",
       "  box-sizing: border-box;\n",
       "  margin-bottom: 0.5em;\n",
       "  /* unfitted */\n",
       "  background-color: var(--sklearn-color-unfitted-level-0);\n",
       "}\n",
       "\n",
       "#sk-container-id-4 div.sk-estimator.fitted {\n",
       "  /* fitted */\n",
       "  background-color: var(--sklearn-color-fitted-level-0);\n",
       "}\n",
       "\n",
       "/* on hover */\n",
       "#sk-container-id-4 div.sk-estimator:hover {\n",
       "  /* unfitted */\n",
       "  background-color: var(--sklearn-color-unfitted-level-2);\n",
       "}\n",
       "\n",
       "#sk-container-id-4 div.sk-estimator.fitted:hover {\n",
       "  /* fitted */\n",
       "  background-color: var(--sklearn-color-fitted-level-2);\n",
       "}\n",
       "\n",
       "/* Specification for estimator info (e.g. \"i\" and \"?\") */\n",
       "\n",
       "/* Common style for \"i\" and \"?\" */\n",
       "\n",
       ".sk-estimator-doc-link,\n",
       "a:link.sk-estimator-doc-link,\n",
       "a:visited.sk-estimator-doc-link {\n",
       "  float: right;\n",
       "  font-size: smaller;\n",
       "  line-height: 1em;\n",
       "  font-family: monospace;\n",
       "  background-color: var(--sklearn-color-background);\n",
       "  border-radius: 1em;\n",
       "  height: 1em;\n",
       "  width: 1em;\n",
       "  text-decoration: none !important;\n",
       "  margin-left: 0.5em;\n",
       "  text-align: center;\n",
       "  /* unfitted */\n",
       "  border: var(--sklearn-color-unfitted-level-1) 1pt solid;\n",
       "  color: var(--sklearn-color-unfitted-level-1);\n",
       "}\n",
       "\n",
       ".sk-estimator-doc-link.fitted,\n",
       "a:link.sk-estimator-doc-link.fitted,\n",
       "a:visited.sk-estimator-doc-link.fitted {\n",
       "  /* fitted */\n",
       "  border: var(--sklearn-color-fitted-level-1) 1pt solid;\n",
       "  color: var(--sklearn-color-fitted-level-1);\n",
       "}\n",
       "\n",
       "/* On hover */\n",
       "div.sk-estimator:hover .sk-estimator-doc-link:hover,\n",
       ".sk-estimator-doc-link:hover,\n",
       "div.sk-label-container:hover .sk-estimator-doc-link:hover,\n",
       ".sk-estimator-doc-link:hover {\n",
       "  /* unfitted */\n",
       "  background-color: var(--sklearn-color-unfitted-level-3);\n",
       "  color: var(--sklearn-color-background);\n",
       "  text-decoration: none;\n",
       "}\n",
       "\n",
       "div.sk-estimator.fitted:hover .sk-estimator-doc-link.fitted:hover,\n",
       ".sk-estimator-doc-link.fitted:hover,\n",
       "div.sk-label-container:hover .sk-estimator-doc-link.fitted:hover,\n",
       ".sk-estimator-doc-link.fitted:hover {\n",
       "  /* fitted */\n",
       "  background-color: var(--sklearn-color-fitted-level-3);\n",
       "  color: var(--sklearn-color-background);\n",
       "  text-decoration: none;\n",
       "}\n",
       "\n",
       "/* Span, style for the box shown on hovering the info icon */\n",
       ".sk-estimator-doc-link span {\n",
       "  display: none;\n",
       "  z-index: 9999;\n",
       "  position: relative;\n",
       "  font-weight: normal;\n",
       "  right: .2ex;\n",
       "  padding: .5ex;\n",
       "  margin: .5ex;\n",
       "  width: min-content;\n",
       "  min-width: 20ex;\n",
       "  max-width: 50ex;\n",
       "  color: var(--sklearn-color-text);\n",
       "  box-shadow: 2pt 2pt 4pt #999;\n",
       "  /* unfitted */\n",
       "  background: var(--sklearn-color-unfitted-level-0);\n",
       "  border: .5pt solid var(--sklearn-color-unfitted-level-3);\n",
       "}\n",
       "\n",
       ".sk-estimator-doc-link.fitted span {\n",
       "  /* fitted */\n",
       "  background: var(--sklearn-color-fitted-level-0);\n",
       "  border: var(--sklearn-color-fitted-level-3);\n",
       "}\n",
       "\n",
       ".sk-estimator-doc-link:hover span {\n",
       "  display: block;\n",
       "}\n",
       "\n",
       "/* \"?\"-specific style due to the `<a>` HTML tag */\n",
       "\n",
       "#sk-container-id-4 a.estimator_doc_link {\n",
       "  float: right;\n",
       "  font-size: 1rem;\n",
       "  line-height: 1em;\n",
       "  font-family: monospace;\n",
       "  background-color: var(--sklearn-color-background);\n",
       "  border-radius: 1rem;\n",
       "  height: 1rem;\n",
       "  width: 1rem;\n",
       "  text-decoration: none;\n",
       "  /* unfitted */\n",
       "  color: var(--sklearn-color-unfitted-level-1);\n",
       "  border: var(--sklearn-color-unfitted-level-1) 1pt solid;\n",
       "}\n",
       "\n",
       "#sk-container-id-4 a.estimator_doc_link.fitted {\n",
       "  /* fitted */\n",
       "  border: var(--sklearn-color-fitted-level-1) 1pt solid;\n",
       "  color: var(--sklearn-color-fitted-level-1);\n",
       "}\n",
       "\n",
       "/* On hover */\n",
       "#sk-container-id-4 a.estimator_doc_link:hover {\n",
       "  /* unfitted */\n",
       "  background-color: var(--sklearn-color-unfitted-level-3);\n",
       "  color: var(--sklearn-color-background);\n",
       "  text-decoration: none;\n",
       "}\n",
       "\n",
       "#sk-container-id-4 a.estimator_doc_link.fitted:hover {\n",
       "  /* fitted */\n",
       "  background-color: var(--sklearn-color-fitted-level-3);\n",
       "}\n",
       "</style><div id=\"sk-container-id-4\" class=\"sk-top-container\"><div class=\"sk-text-repr-fallback\"><pre>KNeighborsClassifier(n_neighbors=3)</pre><b>In a Jupyter environment, please rerun this cell to show the HTML representation or trust the notebook. <br />On GitHub, the HTML representation is unable to render, please try loading this page with nbviewer.org.</b></div><div class=\"sk-container\" hidden><div class=\"sk-item\"><div class=\"sk-estimator fitted sk-toggleable\"><input class=\"sk-toggleable__control sk-hidden--visually\" id=\"sk-estimator-id-4\" type=\"checkbox\" checked><label for=\"sk-estimator-id-4\" class=\"sk-toggleable__label fitted sk-toggleable__label-arrow\"><div><div>KNeighborsClassifier</div></div><div><a class=\"sk-estimator-doc-link fitted\" rel=\"noreferrer\" target=\"_blank\" href=\"https://scikit-learn.org/1.6/modules/generated/sklearn.neighbors.KNeighborsClassifier.html\">?<span>Documentation for KNeighborsClassifier</span></a><span class=\"sk-estimator-doc-link fitted\">i<span>Fitted</span></span></div></label><div class=\"sk-toggleable__content fitted\"><pre>KNeighborsClassifier(n_neighbors=3)</pre></div> </div></div></div></div>"
      ],
      "text/plain": [
       "KNeighborsClassifier(n_neighbors=3)"
      ]
     },
     "execution_count": 31,
     "metadata": {},
     "output_type": "execute_result"
    }
   ],
   "source": [
    "knn=KNeighborsClassifier(n_neighbors=3)\n",
    "knn.fit(X_train,y_train)"
   ]
  },
  {
   "cell_type": "code",
   "execution_count": 32,
   "id": "e9f3823e-62a4-4c57-9c44-3b350994b7b4",
   "metadata": {},
   "outputs": [
    {
     "name": "stdout",
     "output_type": "stream",
     "text": [
      "Testing Accuracy:97.44%\n"
     ]
    }
   ],
   "source": [
    "y_pred=knn.predict(X_test)\n",
    "accuracy=accuracy_score(y_pred,y_test)\n",
    "print(f\"Testing Accuracy:{accuracy*100:.2f}%\")"
   ]
  },
  {
   "cell_type": "code",
   "execution_count": 33,
   "id": "ad092caf-9a60-4725-8554-803c494af9b3",
   "metadata": {},
   "outputs": [
    {
     "name": "stdout",
     "output_type": "stream",
     "text": [
      "Training Accuracy:100.00%\n"
     ]
    }
   ],
   "source": [
    "y_pred=knn.predict(X_train)\n",
    "accuracy=accuracy_score(y_pred,y_train)\n",
    "print(f\"Training Accuracy:{accuracy*100:.2f}%\")"
   ]
  },
  {
   "cell_type": "code",
   "execution_count": 34,
   "id": "c4cf5cff-b3fb-42ba-b81a-24a8a6c24d3d",
   "metadata": {},
   "outputs": [
    {
     "data": {
      "image/png": "[encoded data removed]",
      "text/plain": [
       "<Figure size 640x480 with 2 Axes>"
      ]
     },
     "metadata": {},
     "output_type": "display_data"
    },
    {
     "name": "stdout",
     "output_type": "stream",
     "text": [
      "Accuracy: 97.436%\n",
      "Precision: 100.000%\n",
      "Sensitivity (Recall): 96.154%\n",
      "F1-Score: 98.039%\n"
     ]
    }
   ],
   "source": [
    "from sklearn.metrics import confusion_matrix, classification_report\n",
    "import seaborn as sns\n",
    "\n",
    "actual=y_test\n",
    "predicted=knn.predict(X_test)\n",
    "cm=confusion_matrix(actual,predicted)\n",
    "\n",
    "sns.heatmap(cm,annot=True,fmt='g',\n",
    "           xticklabels=['Not Infected','Infected'],\n",
    "           yticklabels=['Not Infected','Infected'])\n",
    "plt.ylabel(\"Actual\")\n",
    "plt.xlabel(\"Predicted\")\n",
    "plt.title(\"Confusion Matrix\")\n",
    "plt.gca().xaxis.set_label_position('top') \n",
    "plt.gca().xaxis.tick_top()\n",
    "plt.gca().figure.subplots_adjust(bottom=0.2)\n",
    "plt.show()\n",
    "\n",
    "\n",
    "TP = cm[0][0]\n",
    "FP = cm[0][1]\n",
    "FN = cm[1][0]\n",
    "TN = cm[1][1]\n",
    "\n",
    "accuracy = (TP + TN) / (TP + TN + FP + FN)\n",
    "precision = TP / (TP + FP) if (TP + FP) != 0 else 0\n",
    "recall = TP / (TP + FN) if (TP + FN) != 0 else 0  \n",
    "f1_score = 2 * (precision * recall) / (precision + recall) if (precision + recall) != 0 else 0\n",
    "\n",
    "print(f\"Accuracy: {accuracy*100:.3f}%\")\n",
    "print(f\"Precision: {precision*100:.3f}%\")\n",
    "print(f\"Sensitivity (Recall): {recall*100:.3f}%\")\n",
    "print(f\"F1-Score: {f1_score*100:.3f}%\")"
   ]
  },
  {
   "cell_type": "code",
   "execution_count": 17,
   "id": "88c83c05-d970-45df-9b5e-7b70b232a867",
   "metadata": {},
   "outputs": [
    {
     "name": "stdout",
     "output_type": "stream",
     "text": [
      "              precision    recall  f1-score   support\n",
      "\n",
      "           0       1.00      1.00      1.00        16\n",
      "           1       1.00      1.00      1.00         8\n",
      "\n",
      "    accuracy                           1.00        24\n",
      "   macro avg       1.00      1.00      1.00        24\n",
      "weighted avg       1.00      1.00      1.00        24\n",
      "\n"
     ]
    }
   ],
   "source": [
    "print(classification_report(predicted,actual))"
   ]
  },
  {
   "cell_type": "code",
   "execution_count": 18,
   "id": "4a2135d2-1023-4127-a027-150dbeef6306",
   "metadata": {},
   "outputs": [
    {
     "data": {
      "image/png": "[encoded data removed]",
      "text/plain": [
       "<Figure size 800x600 with 1 Axes>"
      ]
     },
     "metadata": {},
     "output_type": "display_data"
    }
   ],
   "source": [
    "from sklearn.metrics import roc_curve, auc, accuracy_score\n",
    "import matplotlib.pyplot as plt\n",
    "\n",
    "# Predict probabilities (only for the positive class)\n",
    "y_prob = knn.predict_proba(X_test)[:, 1]\n",
    "\n",
    "# Predict labels (for accuracy)\n",
    "y_pred = knn.predict(X_test)\n",
    "\n",
    "# Calculate ROC metrics\n",
    "fpr, tpr, thresholds = roc_curve(y_test, y_prob)\n",
    "roc_auc = auc(fpr, tpr)\n",
    "\n",
    "# Calculate accuracy\n",
    "accuracy = accuracy_score(y_test, y_pred)\n",
    "\n",
    "# Plot ROC Curve\n",
    "plt.figure(figsize=(8, 6))\n",
    "plt.plot(fpr, tpr, color='darkorange', lw=2, label=f'ROC Curve (AUC = {roc_auc:.2f})')\n",
    "plt.plot([0, 1], [0, 1], color='navy', lw=2, linestyle='--', label='KNN')\n",
    "plt.xlabel('False Positive Rate')\n",
    "plt.ylabel('True Positive Rate')\n",
    "plt.title('Receiver Operating Characteristic (ROC) Curve\\nAccuracy: {:.2f}%'.format(accuracy * 100))\n",
    "plt.legend(loc=\"lower right\")\n",
    "plt.grid(True)\n",
    "plt.show()"
   ]
  },
  {
   "cell_type": "code",
   "execution_count": 35,
   "id": "2c39059a-9f7f-4cc6-857f-96a373e18b50",
   "metadata": {},
   "outputs": [
    {
     "name": "stdout",
     "output_type": "stream",
     "text": [
      "[0]\n"
     ]
    }
   ],
   "source": [
    "import warnings\n",
    "warnings.filterwarnings(\"ignore\")\n",
    "values=[[0.1,0.2,0.3,0.4,0.5,0.6,0.7,0.8,0.8,0.1,0.7]]\n",
    "cond=knn.predict(values)\n",
    "print(cond)"
   ]
  },
  {
   "cell_type": "code",
   "execution_count": 36,
   "id": "83e5d74f-c89e-43d0-8371-b5b87ca1c484",
   "metadata": {},
   "outputs": [
    {
     "name": "stdout",
     "output_type": "stream",
     "text": [
      "[1]\n"
     ]
    }
   ],
   "source": [
    "values=[[3.1,3,3,3,3,3,3,3,3.1,3,0.1]]\n",
    "cond=knn.predict(values)\n",
    "print(cond)"
   ]
  },
  {
   "cell_type": "code",
   "execution_count": 37,
   "id": "bc12559e-48cd-4b2a-a6d3-f4db6335b428",
   "metadata": {},
   "outputs": [
    {
     "name": "stdout",
     "output_type": "stream",
     "text": [
      "[1]\n"
     ]
    }
   ],
   "source": [
    "values=[[4.149849,\t5.530390,\t4.016367,\t3.915858,\t2.414940,\t3.060105,\t0.416193,\t4.773635,\t5.530390,\t0.416193,\t5.114198\t]]\n",
    "cond=knn.predict(values)\n",
    "print(cond)"
   ]
  },
  {
   "cell_type": "code",
   "execution_count": 38,
   "id": "a7ad14c9-1bab-40a2-a7fe-8de4d331b0d7",
   "metadata": {},
   "outputs": [
    {
     "name": "stdout",
     "output_type": "stream",
     "text": [
      "[1]\n"
     ]
    }
   ],
   "source": [
    "values=[[3,3,3,3,3,3,3,3,3,3,0]]\n",
    "cond=knn.predict(values)\n",
    "print(cond)"
   ]
  },
  {
   "cell_type": "code",
   "execution_count": 39,
   "id": "7c51876d-7af4-479b-b7a3-946ab8ea7ade",
   "metadata": {},
   "outputs": [
    {
     "name": "stdout",
     "output_type": "stream",
     "text": [
      "[0]\n"
     ]
    }
   ],
   "source": [
    "values=[[0,0,0,0,0,0,0,0,0,0,0]]\n",
    "cond=knn.predict(values)\n",
    "print(cond)"
   ]
  },
  {
   "cell_type": "code",
   "execution_count": 40,
   "id": "0c7914c6-c8ad-46b4-a19a-56405c15ef0f",
   "metadata": {},
   "outputs": [
    {
     "name": "stdout",
     "output_type": "stream",
     "text": [
      "[1]\n"
     ]
    }
   ],
   "source": [
    "values=[[3.1,3,3,3,3,3,3,3,3.1,3,0.1]]\n",
    "cond=knn.predict(values)\n",
    "print(cond)"
   ]
  },
  {
   "cell_type": "code",
   "execution_count": 41,
   "id": "0a08ea73-3451-4bce-8a1d-d6f9e258ca8c",
   "metadata": {},
   "outputs": [
    {
     "name": "stdout",
     "output_type": "stream",
     "text": [
      "[0]\n"
     ]
    }
   ],
   "source": [
    "import warnings\n",
    "warnings.filterwarnings(\"ignore\")\n",
    "values=[[0.1,0.2,0.3,0.4,0.5,0.6,0.7,0.8,0.8,0.1,0.7]]\n",
    "cond=knn.predict(values)\n",
    "print(cond)"
   ]
  },
  {
   "cell_type": "code",
   "execution_count": 43,
   "id": "4c3fa9d5-238c-49b5-bb47-ee188a1eaf13",
   "metadata": {},
   "outputs": [
    {
     "name": "stdout",
     "output_type": "stream",
     "text": [
      "[0]\n"
     ]
    }
   ],
   "source": [
    "#failed here\n",
    "values=[[3.5,0.2,2.3,2.4,2.5,1.6,2.7,0.8,3.5,0.2,3.3]]\n",
    "cond=knn.predict(values)\n",
    "print(cond)"
   ]
  },
  {
   "cell_type": "code",
   "execution_count": 44,
   "id": "4efd38b9-5e6d-4b33-9b0f-7730f6ffec79",
   "metadata": {},
   "outputs": [
    {
     "name": "stdout",
     "output_type": "stream",
     "text": [
      "[0]\n"
     ]
    }
   ],
   "source": [
    "values=[[0.414943,\t1.192581,\t1.365798,\t0.995435,\t2.109256,\t0.506431,\t2.456453,\t2.918048,\t2.918048,\t0.414943,\t2.503104\t]]\n",
    "cond=knn.predict(values)\n",
    "print(cond)"
   ]
  },
  {
   "cell_type": "code",
   "execution_count": 45,
   "id": "b7088fe5-03a7-4e38-b62b-55a1e880e0c0",
   "metadata": {},
   "outputs": [
    {
     "name": "stdout",
     "output_type": "stream",
     "text": [
      "[0]\n"
     ]
    }
   ],
   "source": [
    "#failed here\n",
    "values=[[3.5,0.2,2.3,2.4,2.5,1.6,2.7,0.8,3.5,0.2,3.3]]\n",
    "cond=knn.predict(values)\n",
    "print(cond)"
   ]
  },
  {
   "cell_type": "code",
   "execution_count": 48,
   "id": "b872cd4b-8be0-4dec-add5-1a719ed022e6",
   "metadata": {},
   "outputs": [
    {
     "name": "stdout",
     "output_type": "stream",
     "text": [
      "[0]\n"
     ]
    }
   ],
   "source": [
    "#failed here\n",
    "values=[[3.1,2.2,0.3,0.4,0.5,0.6,0.7,0.8,3.1,0.3,2.8]]\n",
    "cond=knn.predict(values)\n",
    "print(cond)"
   ]
  },
  {
   "cell_type": "code",
   "execution_count": 49,
   "id": "ceeff4fd-04e4-40d0-8892-5e937c17af9f",
   "metadata": {},
   "outputs": [
    {
     "name": "stdout",
     "output_type": "stream",
     "text": [
      "[1]\n"
     ]
    }
   ],
   "source": [
    "values=[[3.1,3,3,3,3,3,3,3,3.1,3,0.1]]\n",
    "cond=knn.predict(values)\n",
    "print(cond)"
   ]
  },
  {
   "cell_type": "code",
   "execution_count": 50,
   "id": "8313e96b-3da0-41a6-b14c-2089cafa490f",
   "metadata": {},
   "outputs": [
    {
     "name": "stdout",
     "output_type": "stream",
     "text": [
      "[1]\n"
     ]
    }
   ],
   "source": [
    "values=[[3,3,3,3,3,3,3,3,3,3,0]]\n",
    "cond=knn.predict(values)\n",
    "print(cond)"
   ]
  },
  {
   "cell_type": "code",
   "execution_count": 51,
   "id": "fbfd7edf-ce0c-4968-bf5f-c899dbbc8ef8",
   "metadata": {},
   "outputs": [
    {
     "name": "stdout",
     "output_type": "stream",
     "text": [
      "[0]\n"
     ]
    }
   ],
   "source": [
    "values=[[0,0.1,0,0.3,0.4,0,0,0,0.4,0.1,0.3]]\n",
    "cond=knn.predict(values)\n",
    "print(cond)"
   ]
  },
  {
   "cell_type": "code",
   "execution_count": 52,
   "id": "67103041-d4eb-421b-979e-738c7d712d92",
   "metadata": {},
   "outputs": [
    {
     "name": "stdout",
     "output_type": "stream",
     "text": [
      "[0]\n"
     ]
    }
   ],
   "source": [
    "values=[[0,0,0,0,0,0,0,0,0,0,0]]\n",
    "cond=knn.predict(values)\n",
    "print(cond)"
   ]
  },
  {
   "cell_type": "code",
   "execution_count": 53,
   "id": "51178fba-40ac-44ce-85b2-5f3d6af9df22",
   "metadata": {},
   "outputs": [
    {
     "name": "stdout",
     "output_type": "stream",
     "text": [
      "[0]\n"
     ]
    }
   ],
   "source": [
    "values=[[0.1,0.2,0.3,0.4,0.5,0.6,0.7,0.8,0.8,0.1,0.7]]\n",
    "cond=knn.predict(values)\n",
    "print(cond)"
   ]
  },
  {
   "cell_type": "code",
   "execution_count": 54,
   "id": "fe490d78-ed37-48d8-8afb-6465bde2ee39",
   "metadata": {},
   "outputs": [
    {
     "name": "stdout",
     "output_type": "stream",
     "text": [
      "[1]\n"
     ]
    }
   ],
   "source": [
    "values=[[3.1,2.2,0.3,4.4,0.5,0.6,0.7,0.8,4.4,0.3,4.1]]\n",
    "cond=knn.predict(values)\n",
    "print(cond)"
   ]
  },
  {
   "cell_type": "code",
   "execution_count": 55,
   "id": "250e1bc5-4589-4cba-8c12-15e8cc098dee",
   "metadata": {},
   "outputs": [
    {
     "name": "stdout",
     "output_type": "stream",
     "text": [
      "[0]\n"
     ]
    }
   ],
   "source": [
    "values=[[2.0,2.0,2.3,2.4,2.5,2.6,0.7,0.8,2.6,0.7,1.9]]\n",
    "cond=knn.predict(values)\n",
    "print(cond)"
   ]
  },
  {
   "cell_type": "code",
   "execution_count": 56,
   "id": "0773e74c-9775-4f77-9db9-63ef9a1ecbef",
   "metadata": {},
   "outputs": [
    {
     "name": "stdout",
     "output_type": "stream",
     "text": [
      "[1]\n"
     ]
    }
   ],
   "source": [
    "values=[[6.1,2.2,0.3,0.4,0.5,0.6,9.7,0.8,6.1,0.3,5.8]]\n",
    "cond=knn.predict(values)\n",
    "print(cond)"
   ]
  },
  {
   "cell_type": "code",
   "execution_count": 58,
   "id": "a8b5d5c3-8524-4cc7-8a8e-e7faf7e14cae",
   "metadata": {},
   "outputs": [
    {
     "name": "stdout",
     "output_type": "stream",
     "text": [
      "[0]\n"
     ]
    }
   ],
   "source": [
    "#failed here\n",
    "values=[[3.5,0.2,2.3,2.4,2.5,1.6,2.7,0.8,3.5,0.2,3.3]]\n",
    "cond=knn.predict(values)\n",
    "print(cond)"
   ]
  },
  {
   "cell_type": "code",
   "execution_count": 59,
   "id": "f67a0769-d13c-405d-8f0b-444f51bef62e",
   "metadata": {},
   "outputs": [
    {
     "name": "stdout",
     "output_type": "stream",
     "text": [
      "Model saved!!\n"
     ]
    }
   ],
   "source": [
    "import joblib \n",
    "joblib.dump(knn,r\"C:\\Users\\CSIO\\Desktop\\Diabetic Foot Research\\Machine Learning Implementation\\Data_Preprocessing_3\\knn_model.h5\")\n",
    "print(\"Model saved!!\")"
   ]
  },
  {
   "cell_type": "code",
   "execution_count": 60,
   "id": "1578aa3f-abb3-4b1a-8228-644fae1e0738",
   "metadata": {},
   "outputs": [],
   "source": [
    "def predict_and_plot(model, values):\n",
    "    prediction = model.predict(values)\n",
    "    if(prediction == 0):\n",
    "        print(\"Patient is Normal\")\n",
    "    if(prediction == 0 and max(values[0])>=3):\n",
    "        print(\"Model made wrong prediction....Handled this case\")\n",
    "        x = ['MTK1.T', 'MTK2.T', 'MTK3.T', 'MTK4.T', 'MTK5.T', 'D1.T', 'L.T', 'C.T']\n",
    "        y = values[0][:-3]\n",
    "\n",
    "        high_temp_features = [(feature, val) for feature, val in zip(x, y) if val >= 3]\n",
    "        plt.figure(figsize=(8,6))\n",
    "        plt.plot(x,y, marker = 'o')\n",
    "        plt.title(\"Temperature difference sensor readings\")\n",
    "        plt.xlabel(\"Sensor\")\n",
    "        plt.ylabel(\"Value\")\n",
    "        plt.grid(True)\n",
    "\n",
    "        for feature, val in high_temp_features:\n",
    "            plt.annotate(f\"{val}\", xy=(feature,val),\n",
    "                        xytext=(feature,val + 0.2),\n",
    "                        arrowprops=dict(facecolor='red',shrink=0.05),\n",
    "                        ha = 'center', color = 'red')\n",
    "        plt.show()\n",
    "        print(f\"Patient might develop ulcer/infection on the following regions:\")\n",
    "        for feature, val in high_temp_features:\n",
    "            print(f\" {feature}: temperature difference = {val}\")\n",
    "    \n",
    "    else:\n",
    "        x = ['MTK1.T', 'MTK2.T', 'MTK3.T', 'MTK4.T', 'MTK5.T', 'D1.T', 'L.T', 'C.T']\n",
    "        y = values[0][:-3]\n",
    "\n",
    "        high_temp_features = [(feature, val) for feature, val in zip(x, y) if val >= 3]\n",
    "        plt.figure(figsize=(8,6))\n",
    "        plt.plot(x,y, marker = 'o')\n",
    "        plt.title(\"Temperature difference sensor readings\")\n",
    "        plt.xlabel(\"Sensor\")\n",
    "        plt.ylabel(\"Value\")\n",
    "        plt.grid(True)\n",
    "\n",
    "        for feature, val in high_temp_features:\n",
    "            plt.annotate(f\"{val}\", xy=(feature,val),\n",
    "                        xytext=(feature,val + 0.2),\n",
    "                        arrowprops=dict(facecolor='red',shrink=0.05),\n",
    "                        ha = 'center', color = 'red')\n",
    "        plt.show()\n",
    "        print(f\"Patient might develop ulcer/infection on the following regions:\")\n",
    "        for feature, val in high_temp_features:\n",
    "            print(f\" {feature}: temperature difference = {val}\")"
   ]
  },
  {
   "cell_type": "code",
   "execution_count": 61,
   "id": "64fafab0-ad16-43ef-85d2-ea41b12e4c9d",
   "metadata": {},
   "outputs": [],
   "source": [
    "import shap\n",
    "def get_shap_prediction(model,values):\n",
    "    explainer = shap.Explainer(model.predict, X_train)\n",
    "    shap_values = explainer.shap_values(X_test)\n",
    "    values=np.array(values)\n",
    "    shap_values=explainer.shap_values(values)\n",
    "    print(\"**********************************************************************************************\")\n",
    "    print(\"Feature Importance Plot Using Explainable AI for inference\")\n",
    "    shap.summary_plot(shap_values,values, plot_type='bar',feature_names=X_test.columns)"
   ]
  },
  {
   "cell_type": "code",
   "execution_count": 62,
   "id": "0f128f67-4405-4a0c-b5b0-340df65e48f0",
   "metadata": {},
   "outputs": [
    {
     "data": {
      "image/png": "[encoded data removed]",
      "text/plain": [
       "<Figure size 800x600 with 1 Axes>"
      ]
     },
     "metadata": {},
     "output_type": "display_data"
    },
    {
     "name": "stdout",
     "output_type": "stream",
     "text": [
      "Patient might develop ulcer/infection on the following regions:\n",
      " C.T: temperature difference = 3.400332\n"
     ]
    },
    {
     "name": "stderr",
     "output_type": "stream",
     "text": [
      "PermutationExplainer explainer: 40it [00:12,  1.43it/s]                                                                \n"
     ]
    },
    {
     "name": "stdout",
     "output_type": "stream",
     "text": [
      "**********************************************************************************************\n",
      "Feature Importance Plot Using Explainable AI for inference\n"
     ]
    },
    {
     "data": {
      "image/png": "[encoded data removed]",
      "text/plain": [
       "<Figure size 800x590 with 1 Axes>"
      ]
     },
     "metadata": {},
     "output_type": "display_data"
    }
   ],
   "source": [
    "values=[[0.704690, 1.595115\t,1.218438, 0.859128, 1.165247, 0.722619 , 1.235193 ,3.400332,3.400332, 0.704690 , 2.695642]]\n",
    "predict_and_plot(knn,values)\n",
    "get_shap_prediction(knn,values)"
   ]
  },
  {
   "cell_type": "code",
   "execution_count": null,
   "id": "9c5aaf6c-03dd-4df9-8a6e-7fcd78d22481",
   "metadata": {},
   "outputs": [],
   "source": []
  }
 ],
 "metadata": {
  "kernelspec": {
   "display_name": "Python 3 (ipykernel)",
   "language": "python",
   "name": "python3"
  },
  "language_info": {
   "codemirror_mode": {
    "name": "ipython",
    "version": 3
   },
   "file_extension": ".py",
   "mimetype": "text/x-python",
   "name": "python",
   "nbconvert_exporter": "python",
   "pygments_lexer": "ipython3",
   "version": "3.10.11"
  }
 },
 "nbformat": 4,
 "nbformat_minor": 5
}
